{
 "cells": [
  {
   "cell_type": "markdown",
   "metadata": {},
   "source": [
    "# Loading Data "
   ]
  },
  {
   "cell_type": "code",
   "execution_count": 1,
   "metadata": {},
   "outputs": [],
   "source": [
    "import pandas as pd\n",
    "import numpy as np\n",
    "np.random.seed(99)"
   ]
  },
  {
   "cell_type": "code",
   "execution_count": 2,
   "metadata": {},
   "outputs": [],
   "source": [
    "train_data = pd.read_csv(\"train_age_dataset.csv\",index_col=None)\n",
    "train_data = train_data.iloc[:,1:] #removed a column named \"Unnamed: 0\"\n",
    "train_data[\"gender\"] = train_data.gender - 1 #Now 0 represents male and 1 represents female"
   ]
  },
  {
   "cell_type": "code",
   "execution_count": 3,
   "metadata": {
    "scrolled": true
   },
   "outputs": [
    {
     "data": {
      "text/html": [
       "<div>\n",
       "<style scoped>\n",
       "    .dataframe tbody tr th:only-of-type {\n",
       "        vertical-align: middle;\n",
       "    }\n",
       "\n",
       "    .dataframe tbody tr th {\n",
       "        vertical-align: top;\n",
       "    }\n",
       "\n",
       "    .dataframe thead th {\n",
       "        text-align: right;\n",
       "    }\n",
       "</style>\n",
       "<table border=\"1\" class=\"dataframe\">\n",
       "  <thead>\n",
       "    <tr style=\"text-align: right;\">\n",
       "      <th></th>\n",
       "      <th>userId</th>\n",
       "      <th>tier</th>\n",
       "      <th>gender</th>\n",
       "      <th>following_rate</th>\n",
       "      <th>followers_avg_age</th>\n",
       "      <th>following_avg_age</th>\n",
       "      <th>max_repetitive_punc</th>\n",
       "      <th>num_of_hashtags_per_action</th>\n",
       "      <th>emoji_count_per_action</th>\n",
       "      <th>punctuations_per_action</th>\n",
       "      <th>...</th>\n",
       "      <th>content_views</th>\n",
       "      <th>num_of_comments</th>\n",
       "      <th>weekends_trails_watched_per_day</th>\n",
       "      <th>weekdays_trails_watched_per_day</th>\n",
       "      <th>slot1_trails_watched_per_day</th>\n",
       "      <th>slot2_trails_watched_per_day</th>\n",
       "      <th>slot3_trails_watched_per_day</th>\n",
       "      <th>slot4_trails_watched_per_day</th>\n",
       "      <th>avgt2</th>\n",
       "      <th>age_group</th>\n",
       "    </tr>\n",
       "  </thead>\n",
       "  <tbody>\n",
       "    <tr>\n",
       "      <th>0</th>\n",
       "      <td>48958844</td>\n",
       "      <td>2</td>\n",
       "      <td>0</td>\n",
       "      <td>0.0</td>\n",
       "      <td>0.0</td>\n",
       "      <td>0.0</td>\n",
       "      <td>0</td>\n",
       "      <td>0.0</td>\n",
       "      <td>0.0</td>\n",
       "      <td>0.000000</td>\n",
       "      <td>...</td>\n",
       "      <td>0.200000</td>\n",
       "      <td>0.0</td>\n",
       "      <td>0.041667</td>\n",
       "      <td>0.025000</td>\n",
       "      <td>0.0</td>\n",
       "      <td>0.000000</td>\n",
       "      <td>0.175000</td>\n",
       "      <td>0.033333</td>\n",
       "      <td>0.0</td>\n",
       "      <td>1</td>\n",
       "    </tr>\n",
       "    <tr>\n",
       "      <th>1</th>\n",
       "      <td>51100441</td>\n",
       "      <td>2</td>\n",
       "      <td>1</td>\n",
       "      <td>0.0</td>\n",
       "      <td>0.0</td>\n",
       "      <td>0.0</td>\n",
       "      <td>0</td>\n",
       "      <td>0.0</td>\n",
       "      <td>0.0</td>\n",
       "      <td>0.076923</td>\n",
       "      <td>...</td>\n",
       "      <td>0.093220</td>\n",
       "      <td>0.0</td>\n",
       "      <td>0.012712</td>\n",
       "      <td>0.018644</td>\n",
       "      <td>0.0</td>\n",
       "      <td>0.084746</td>\n",
       "      <td>0.000000</td>\n",
       "      <td>0.033898</td>\n",
       "      <td>82.5</td>\n",
       "      <td>2</td>\n",
       "    </tr>\n",
       "    <tr>\n",
       "      <th>2</th>\n",
       "      <td>6887426</td>\n",
       "      <td>2</td>\n",
       "      <td>0</td>\n",
       "      <td>0.0</td>\n",
       "      <td>0.0</td>\n",
       "      <td>0.0</td>\n",
       "      <td>0</td>\n",
       "      <td>0.0</td>\n",
       "      <td>0.0</td>\n",
       "      <td>0.000000</td>\n",
       "      <td>...</td>\n",
       "      <td>0.002786</td>\n",
       "      <td>0.0</td>\n",
       "      <td>0.000000</td>\n",
       "      <td>0.000557</td>\n",
       "      <td>0.0</td>\n",
       "      <td>0.002786</td>\n",
       "      <td>0.000000</td>\n",
       "      <td>0.000000</td>\n",
       "      <td>0.0</td>\n",
       "      <td>1</td>\n",
       "    </tr>\n",
       "    <tr>\n",
       "      <th>3</th>\n",
       "      <td>50742404</td>\n",
       "      <td>2</td>\n",
       "      <td>0</td>\n",
       "      <td>0.0</td>\n",
       "      <td>0.0</td>\n",
       "      <td>0.0</td>\n",
       "      <td>0</td>\n",
       "      <td>0.0</td>\n",
       "      <td>0.0</td>\n",
       "      <td>0.000000</td>\n",
       "      <td>...</td>\n",
       "      <td>0.008403</td>\n",
       "      <td>0.0</td>\n",
       "      <td>0.000000</td>\n",
       "      <td>0.001681</td>\n",
       "      <td>0.0</td>\n",
       "      <td>0.000000</td>\n",
       "      <td>0.000000</td>\n",
       "      <td>0.008403</td>\n",
       "      <td>0.0</td>\n",
       "      <td>1</td>\n",
       "    </tr>\n",
       "    <tr>\n",
       "      <th>4</th>\n",
       "      <td>45589200</td>\n",
       "      <td>2</td>\n",
       "      <td>1</td>\n",
       "      <td>0.0</td>\n",
       "      <td>0.0</td>\n",
       "      <td>0.0</td>\n",
       "      <td>0</td>\n",
       "      <td>0.0</td>\n",
       "      <td>0.0</td>\n",
       "      <td>0.000000</td>\n",
       "      <td>...</td>\n",
       "      <td>0.204918</td>\n",
       "      <td>0.0</td>\n",
       "      <td>0.000000</td>\n",
       "      <td>0.049180</td>\n",
       "      <td>0.0</td>\n",
       "      <td>0.008197</td>\n",
       "      <td>0.057377</td>\n",
       "      <td>0.180328</td>\n",
       "      <td>0.0</td>\n",
       "      <td>1</td>\n",
       "    </tr>\n",
       "  </tbody>\n",
       "</table>\n",
       "<p>5 rows × 26 columns</p>\n",
       "</div>"
      ],
      "text/plain": [
       "     userId  tier  gender  following_rate  followers_avg_age  \\\n",
       "0  48958844     2       0             0.0                0.0   \n",
       "1  51100441     2       1             0.0                0.0   \n",
       "2   6887426     2       0             0.0                0.0   \n",
       "3  50742404     2       0             0.0                0.0   \n",
       "4  45589200     2       1             0.0                0.0   \n",
       "\n",
       "   following_avg_age  max_repetitive_punc  num_of_hashtags_per_action  \\\n",
       "0                0.0                    0                         0.0   \n",
       "1                0.0                    0                         0.0   \n",
       "2                0.0                    0                         0.0   \n",
       "3                0.0                    0                         0.0   \n",
       "4                0.0                    0                         0.0   \n",
       "\n",
       "   emoji_count_per_action  punctuations_per_action  ...  content_views  \\\n",
       "0                     0.0                 0.000000  ...       0.200000   \n",
       "1                     0.0                 0.076923  ...       0.093220   \n",
       "2                     0.0                 0.000000  ...       0.002786   \n",
       "3                     0.0                 0.000000  ...       0.008403   \n",
       "4                     0.0                 0.000000  ...       0.204918   \n",
       "\n",
       "   num_of_comments  weekends_trails_watched_per_day  \\\n",
       "0              0.0                         0.041667   \n",
       "1              0.0                         0.012712   \n",
       "2              0.0                         0.000000   \n",
       "3              0.0                         0.000000   \n",
       "4              0.0                         0.000000   \n",
       "\n",
       "   weekdays_trails_watched_per_day  slot1_trails_watched_per_day  \\\n",
       "0                         0.025000                           0.0   \n",
       "1                         0.018644                           0.0   \n",
       "2                         0.000557                           0.0   \n",
       "3                         0.001681                           0.0   \n",
       "4                         0.049180                           0.0   \n",
       "\n",
       "   slot2_trails_watched_per_day  slot3_trails_watched_per_day  \\\n",
       "0                      0.000000                      0.175000   \n",
       "1                      0.084746                      0.000000   \n",
       "2                      0.002786                      0.000000   \n",
       "3                      0.000000                      0.000000   \n",
       "4                      0.008197                      0.057377   \n",
       "\n",
       "   slot4_trails_watched_per_day  avgt2  age_group  \n",
       "0                      0.033333    0.0          1  \n",
       "1                      0.033898   82.5          2  \n",
       "2                      0.000000    0.0          1  \n",
       "3                      0.008403    0.0          1  \n",
       "4                      0.180328    0.0          1  \n",
       "\n",
       "[5 rows x 26 columns]"
      ]
     },
     "execution_count": 3,
     "metadata": {},
     "output_type": "execute_result"
    }
   ],
   "source": [
    "train_data.head()"
   ]
  },
  {
   "cell_type": "code",
   "execution_count": 4,
   "metadata": {},
   "outputs": [
    {
     "name": "stdout",
     "output_type": "stream",
     "text": [
      "<class 'pandas.core.frame.DataFrame'>\n",
      "RangeIndex: 488877 entries, 0 to 488876\n",
      "Data columns (total 26 columns):\n",
      " #   Column                           Non-Null Count   Dtype  \n",
      "---  ------                           --------------   -----  \n",
      " 0   userId                           488877 non-null  int64  \n",
      " 1   tier                             488877 non-null  int64  \n",
      " 2   gender                           488877 non-null  int64  \n",
      " 3   following_rate                   488877 non-null  float64\n",
      " 4   followers_avg_age                488877 non-null  float64\n",
      " 5   following_avg_age                488877 non-null  float64\n",
      " 6   max_repetitive_punc              488877 non-null  int64  \n",
      " 7   num_of_hashtags_per_action       488877 non-null  float64\n",
      " 8   emoji_count_per_action           488877 non-null  float64\n",
      " 9   punctuations_per_action          488877 non-null  float64\n",
      " 10  number_of_words_per_action       488877 non-null  float64\n",
      " 11  avgCompletion                    488877 non-null  float64\n",
      " 12  avgTimeSpent                     488877 non-null  float64\n",
      " 13  avgDuration                      488877 non-null  float64\n",
      " 14  avgComments                      488877 non-null  int64  \n",
      " 15  creations                        488877 non-null  float64\n",
      " 16  content_views                    488877 non-null  float64\n",
      " 17  num_of_comments                  488877 non-null  float64\n",
      " 18  weekends_trails_watched_per_day  488877 non-null  float64\n",
      " 19  weekdays_trails_watched_per_day  488877 non-null  float64\n",
      " 20  slot1_trails_watched_per_day     488877 non-null  float64\n",
      " 21  slot2_trails_watched_per_day     488877 non-null  float64\n",
      " 22  slot3_trails_watched_per_day     488877 non-null  float64\n",
      " 23  slot4_trails_watched_per_day     488877 non-null  float64\n",
      " 24  avgt2                            488877 non-null  float64\n",
      " 25  age_group                        488877 non-null  int64  \n",
      "dtypes: float64(20), int64(6)\n",
      "memory usage: 97.0 MB\n"
     ]
    }
   ],
   "source": [
    "train_data.info()"
   ]
  },
  {
   "cell_type": "code",
   "execution_count": 5,
   "metadata": {
    "scrolled": false
   },
   "outputs": [],
   "source": [
    "test_data = pd.read_csv('test_age_dataset.csv')\n",
    "test_data = test_data.iloc[:,1:] #removed a column named \"Unnamed: 0\"\n",
    "test_data[\"gender\"] = test_data.gender - 1 #Now 0 represents male and 1 represents female"
   ]
  },
  {
   "cell_type": "code",
   "execution_count": 6,
   "metadata": {},
   "outputs": [
    {
     "data": {
      "text/html": [
       "<div>\n",
       "<style scoped>\n",
       "    .dataframe tbody tr th:only-of-type {\n",
       "        vertical-align: middle;\n",
       "    }\n",
       "\n",
       "    .dataframe tbody tr th {\n",
       "        vertical-align: top;\n",
       "    }\n",
       "\n",
       "    .dataframe thead th {\n",
       "        text-align: right;\n",
       "    }\n",
       "</style>\n",
       "<table border=\"1\" class=\"dataframe\">\n",
       "  <thead>\n",
       "    <tr style=\"text-align: right;\">\n",
       "      <th></th>\n",
       "      <th>userId</th>\n",
       "      <th>tier</th>\n",
       "      <th>gender</th>\n",
       "      <th>following_rate</th>\n",
       "      <th>followers_avg_age</th>\n",
       "      <th>following_avg_age</th>\n",
       "      <th>max_repetitive_punc</th>\n",
       "      <th>num_of_hashtags_per_action</th>\n",
       "      <th>emoji_count_per_action</th>\n",
       "      <th>punctuations_per_action</th>\n",
       "      <th>...</th>\n",
       "      <th>creations</th>\n",
       "      <th>content_views</th>\n",
       "      <th>num_of_comments</th>\n",
       "      <th>weekends_trails_watched_per_day</th>\n",
       "      <th>weekdays_trails_watched_per_day</th>\n",
       "      <th>slot1_trails_watched_per_day</th>\n",
       "      <th>slot2_trails_watched_per_day</th>\n",
       "      <th>slot3_trails_watched_per_day</th>\n",
       "      <th>slot4_trails_watched_per_day</th>\n",
       "      <th>avgt2</th>\n",
       "    </tr>\n",
       "  </thead>\n",
       "  <tbody>\n",
       "    <tr>\n",
       "      <th>0</th>\n",
       "      <td>33840667</td>\n",
       "      <td>2</td>\n",
       "      <td>0</td>\n",
       "      <td>0.000000</td>\n",
       "      <td>0.0</td>\n",
       "      <td>0.0</td>\n",
       "      <td>0</td>\n",
       "      <td>0.0</td>\n",
       "      <td>0.0</td>\n",
       "      <td>0.0</td>\n",
       "      <td>...</td>\n",
       "      <td>0.000000</td>\n",
       "      <td>0.062992</td>\n",
       "      <td>0.0</td>\n",
       "      <td>0.000000</td>\n",
       "      <td>0.012598</td>\n",
       "      <td>0.000000</td>\n",
       "      <td>0.000000</td>\n",
       "      <td>0.062992</td>\n",
       "      <td>0.000000</td>\n",
       "      <td>0.0</td>\n",
       "    </tr>\n",
       "    <tr>\n",
       "      <th>1</th>\n",
       "      <td>1828421</td>\n",
       "      <td>2</td>\n",
       "      <td>0</td>\n",
       "      <td>0.001818</td>\n",
       "      <td>0.0</td>\n",
       "      <td>0.0</td>\n",
       "      <td>0</td>\n",
       "      <td>0.0</td>\n",
       "      <td>0.0</td>\n",
       "      <td>0.0</td>\n",
       "      <td>...</td>\n",
       "      <td>0.000000</td>\n",
       "      <td>0.003636</td>\n",
       "      <td>0.0</td>\n",
       "      <td>0.000000</td>\n",
       "      <td>0.000727</td>\n",
       "      <td>0.000000</td>\n",
       "      <td>0.000000</td>\n",
       "      <td>0.003636</td>\n",
       "      <td>0.000000</td>\n",
       "      <td>0.0</td>\n",
       "    </tr>\n",
       "    <tr>\n",
       "      <th>2</th>\n",
       "      <td>57353310</td>\n",
       "      <td>2</td>\n",
       "      <td>0</td>\n",
       "      <td>0.000000</td>\n",
       "      <td>0.0</td>\n",
       "      <td>0.0</td>\n",
       "      <td>0</td>\n",
       "      <td>0.0</td>\n",
       "      <td>0.0</td>\n",
       "      <td>0.0</td>\n",
       "      <td>...</td>\n",
       "      <td>0.000000</td>\n",
       "      <td>1.028571</td>\n",
       "      <td>0.0</td>\n",
       "      <td>0.000000</td>\n",
       "      <td>0.211429</td>\n",
       "      <td>0.000000</td>\n",
       "      <td>0.000000</td>\n",
       "      <td>0.742857</td>\n",
       "      <td>0.314286</td>\n",
       "      <td>0.0</td>\n",
       "    </tr>\n",
       "    <tr>\n",
       "      <th>3</th>\n",
       "      <td>36618563</td>\n",
       "      <td>2</td>\n",
       "      <td>1</td>\n",
       "      <td>0.000000</td>\n",
       "      <td>0.0</td>\n",
       "      <td>0.0</td>\n",
       "      <td>4</td>\n",
       "      <td>0.0</td>\n",
       "      <td>0.0</td>\n",
       "      <td>0.0</td>\n",
       "      <td>...</td>\n",
       "      <td>0.007937</td>\n",
       "      <td>0.166667</td>\n",
       "      <td>0.0</td>\n",
       "      <td>0.067460</td>\n",
       "      <td>0.006349</td>\n",
       "      <td>0.000000</td>\n",
       "      <td>0.111111</td>\n",
       "      <td>0.023810</td>\n",
       "      <td>0.031746</td>\n",
       "      <td>201.0</td>\n",
       "    </tr>\n",
       "    <tr>\n",
       "      <th>4</th>\n",
       "      <td>39484434</td>\n",
       "      <td>2</td>\n",
       "      <td>0</td>\n",
       "      <td>0.000000</td>\n",
       "      <td>0.0</td>\n",
       "      <td>0.0</td>\n",
       "      <td>0</td>\n",
       "      <td>0.0</td>\n",
       "      <td>0.0</td>\n",
       "      <td>0.0</td>\n",
       "      <td>...</td>\n",
       "      <td>0.000000</td>\n",
       "      <td>0.233871</td>\n",
       "      <td>0.0</td>\n",
       "      <td>0.116935</td>\n",
       "      <td>0.000000</td>\n",
       "      <td>0.233871</td>\n",
       "      <td>0.000000</td>\n",
       "      <td>0.000000</td>\n",
       "      <td>0.000000</td>\n",
       "      <td>0.0</td>\n",
       "    </tr>\n",
       "  </tbody>\n",
       "</table>\n",
       "<p>5 rows × 25 columns</p>\n",
       "</div>"
      ],
      "text/plain": [
       "     userId  tier  gender  following_rate  followers_avg_age  \\\n",
       "0  33840667     2       0        0.000000                0.0   \n",
       "1   1828421     2       0        0.001818                0.0   \n",
       "2  57353310     2       0        0.000000                0.0   \n",
       "3  36618563     2       1        0.000000                0.0   \n",
       "4  39484434     2       0        0.000000                0.0   \n",
       "\n",
       "   following_avg_age  max_repetitive_punc  num_of_hashtags_per_action  \\\n",
       "0                0.0                    0                         0.0   \n",
       "1                0.0                    0                         0.0   \n",
       "2                0.0                    0                         0.0   \n",
       "3                0.0                    4                         0.0   \n",
       "4                0.0                    0                         0.0   \n",
       "\n",
       "   emoji_count_per_action  punctuations_per_action  ...  creations  \\\n",
       "0                     0.0                      0.0  ...   0.000000   \n",
       "1                     0.0                      0.0  ...   0.000000   \n",
       "2                     0.0                      0.0  ...   0.000000   \n",
       "3                     0.0                      0.0  ...   0.007937   \n",
       "4                     0.0                      0.0  ...   0.000000   \n",
       "\n",
       "   content_views  num_of_comments  weekends_trails_watched_per_day  \\\n",
       "0       0.062992              0.0                         0.000000   \n",
       "1       0.003636              0.0                         0.000000   \n",
       "2       1.028571              0.0                         0.000000   \n",
       "3       0.166667              0.0                         0.067460   \n",
       "4       0.233871              0.0                         0.116935   \n",
       "\n",
       "   weekdays_trails_watched_per_day  slot1_trails_watched_per_day  \\\n",
       "0                         0.012598                      0.000000   \n",
       "1                         0.000727                      0.000000   \n",
       "2                         0.211429                      0.000000   \n",
       "3                         0.006349                      0.000000   \n",
       "4                         0.000000                      0.233871   \n",
       "\n",
       "   slot2_trails_watched_per_day  slot3_trails_watched_per_day  \\\n",
       "0                      0.000000                      0.062992   \n",
       "1                      0.000000                      0.003636   \n",
       "2                      0.000000                      0.742857   \n",
       "3                      0.111111                      0.023810   \n",
       "4                      0.000000                      0.000000   \n",
       "\n",
       "   slot4_trails_watched_per_day  avgt2  \n",
       "0                      0.000000    0.0  \n",
       "1                      0.000000    0.0  \n",
       "2                      0.314286    0.0  \n",
       "3                      0.031746  201.0  \n",
       "4                      0.000000    0.0  \n",
       "\n",
       "[5 rows x 25 columns]"
      ]
     },
     "execution_count": 6,
     "metadata": {},
     "output_type": "execute_result"
    }
   ],
   "source": [
    "test_data.head()"
   ]
  },
  {
   "cell_type": "code",
   "execution_count": 7,
   "metadata": {
    "scrolled": true
   },
   "outputs": [
    {
     "name": "stdout",
     "output_type": "stream",
     "text": [
      "<class 'pandas.core.frame.DataFrame'>\n",
      "RangeIndex: 54320 entries, 0 to 54319\n",
      "Data columns (total 25 columns):\n",
      " #   Column                           Non-Null Count  Dtype  \n",
      "---  ------                           --------------  -----  \n",
      " 0   userId                           54320 non-null  int64  \n",
      " 1   tier                             54320 non-null  int64  \n",
      " 2   gender                           54320 non-null  int64  \n",
      " 3   following_rate                   54320 non-null  float64\n",
      " 4   followers_avg_age                54320 non-null  float64\n",
      " 5   following_avg_age                54320 non-null  float64\n",
      " 6   max_repetitive_punc              54320 non-null  int64  \n",
      " 7   num_of_hashtags_per_action       54320 non-null  float64\n",
      " 8   emoji_count_per_action           54320 non-null  float64\n",
      " 9   punctuations_per_action          54320 non-null  float64\n",
      " 10  number_of_words_per_action       54320 non-null  float64\n",
      " 11  avgCompletion                    54320 non-null  float64\n",
      " 12  avgTimeSpent                     54320 non-null  float64\n",
      " 13  avgDuration                      54320 non-null  float64\n",
      " 14  avgComments                      54320 non-null  int64  \n",
      " 15  creations                        54320 non-null  float64\n",
      " 16  content_views                    54320 non-null  float64\n",
      " 17  num_of_comments                  54320 non-null  float64\n",
      " 18  weekends_trails_watched_per_day  54320 non-null  float64\n",
      " 19  weekdays_trails_watched_per_day  54320 non-null  float64\n",
      " 20  slot1_trails_watched_per_day     54320 non-null  float64\n",
      " 21  slot2_trails_watched_per_day     54320 non-null  float64\n",
      " 22  slot3_trails_watched_per_day     54320 non-null  float64\n",
      " 23  slot4_trails_watched_per_day     54320 non-null  float64\n",
      " 24  avgt2                            54320 non-null  float64\n",
      "dtypes: float64(20), int64(5)\n",
      "memory usage: 10.4 MB\n"
     ]
    }
   ],
   "source": [
    "test_data.info()"
   ]
  },
  {
   "cell_type": "code",
   "execution_count": 8,
   "metadata": {},
   "outputs": [],
   "source": [
    "X = train_data.iloc[:,:-1]\n",
    "y = train_data['age_group']"
   ]
  },
  {
   "cell_type": "markdown",
   "metadata": {},
   "source": [
    "# Feature Engineering"
   ]
  },
  {
   "cell_type": "markdown",
   "metadata": {},
   "source": [
    "A new column named \"ratio\" is created based on domain knowledge.\n",
    "ratio - describes the usage of social media on weekends vs weekdays. "
   ]
  },
  {
   "cell_type": "code",
   "execution_count": 9,
   "metadata": {},
   "outputs": [],
   "source": [
    "X[\"ratio\"] = (X[\"weekends_trails_watched_per_day\"]+1)/(X[\"weekdays_trails_watched_per_day\"]+1) \n",
    "test_data[\"ratio\"] = (test_data[\"weekends_trails_watched_per_day\"]+1)/(test_data[\"weekdays_trails_watched_per_day\"]+1)"
   ]
  },
  {
   "cell_type": "markdown",
   "metadata": {},
   "source": [
    "Added a new column and a few transformations on the basis of EDA."
   ]
  },
  {
   "cell_type": "code",
   "execution_count": 10,
   "metadata": {},
   "outputs": [],
   "source": [
    "# This new feature could differentiate between the age groups\n",
    "X[\"avg_durxcomp\"] = X['avgDuration']*X[\"avgCompletion\"]\n",
    "test_data[\"avg_durxcomp\"] = test_data['avgDuration']*test_data[\"avgCompletion\"]\n",
    "\n",
    "# To remove the skewness of these columns\n",
    "X[['avgDuration','avgCompletion']] = np.log(1+X[['avgDuration','avgCompletion']]) \n",
    "test_data[['avgDuration','avgCompletion']] = np.log(1+test_data[['avgDuration','avgCompletion']])\n",
    "\n",
    "# Since about 90% of the data in these columns was 0\n",
    "X['emoji_count_per_action'] = (X['emoji_count_per_action']>0).astype(np.int64)\n",
    "X['punctuations_per_action'] = (X['punctuations_per_action']>0).astype(np.int64)\n",
    "X['num_of_comments'] = (X['num_of_comments']>0).astype(np.int64)\n",
    "X['num_of_hashtags_per_action'] = (X['num_of_hashtags_per_action']>0).astype(np.int64)\n",
    "X['avgComments'] = (X['avgComments']>0).astype(np.int64)\n",
    "\n",
    "test_data['emoji_count_per_action'] = (test_data['emoji_count_per_action']>0).astype(np.int64)\n",
    "test_data['punctuations_per_action'] = (test_data['punctuations_per_action']>0).astype(np.int64)\n",
    "test_data['num_of_comments'] = (test_data['num_of_comments']>0).astype(np.int64)\n",
    "test_data['num_of_hashtags_per_action'] = (test_data['num_of_hashtags_per_action']>0).astype(np.int64)\n",
    "test_data['avgComments'] = (test_data['avgComments']>0).astype(np.int64)"
   ]
  },
  {
   "cell_type": "code",
   "execution_count": 11,
   "metadata": {},
   "outputs": [
    {
     "data": {
      "text/plain": [
       "['tier',\n",
       " 'gender',\n",
       " 'num_of_hashtags_per_action',\n",
       " 'emoji_count_per_action',\n",
       " 'punctuations_per_action',\n",
       " 'avgComments',\n",
       " 'num_of_comments']"
      ]
     },
     "execution_count": 11,
     "metadata": {},
     "output_type": "execute_result"
    }
   ],
   "source": [
    "cat_cols = X.columns[X.nunique()<4].to_list()\n",
    "cat_cols"
   ]
  },
  {
   "cell_type": "code",
   "execution_count": 12,
   "metadata": {
    "scrolled": true
   },
   "outputs": [
    {
     "data": {
      "text/plain": [
       "['avg_durxcomp',\n",
       " 'slot4_trails_watched_per_day',\n",
       " 'weekdays_trails_watched_per_day',\n",
       " 'followers_avg_age',\n",
       " 'max_repetitive_punc',\n",
       " 'following_avg_age',\n",
       " 'number_of_words_per_action',\n",
       " 'weekends_trails_watched_per_day',\n",
       " 'creations',\n",
       " 'slot2_trails_watched_per_day',\n",
       " 'following_rate',\n",
       " 'ratio',\n",
       " 'content_views',\n",
       " 'slot1_trails_watched_per_day',\n",
       " 'avgDuration',\n",
       " 'avgTimeSpent',\n",
       " 'avgt2',\n",
       " 'avgCompletion',\n",
       " 'userId',\n",
       " 'slot3_trails_watched_per_day']"
      ]
     },
     "execution_count": 12,
     "metadata": {},
     "output_type": "execute_result"
    }
   ],
   "source": [
    "num_cols = list(set(X.columns)-set(cat_cols))\n",
    "num_cols"
   ]
  },
  {
   "cell_type": "markdown",
   "metadata": {},
   "source": [
    "# Training\n",
    "\n",
    "We have split the train data to create a validation dataset, and used pipeline to keep the flow simple and understandable. We first trained Random Forest, XGBoost and LightGBM classifiers using RandomizedSearchCV and then trained on thier corresponding best parameters and used with soft ensembling technique for final result."
   ]
  },
  {
   "cell_type": "code",
   "execution_count": 13,
   "metadata": {},
   "outputs": [],
   "source": [
    "from sklearn.model_selection import train_test_split"
   ]
  },
  {
   "cell_type": "code",
   "execution_count": 14,
   "metadata": {},
   "outputs": [],
   "source": [
    "## since we had a large dataset of about 5 lakh data points, small validation dataset in used ##\n",
    "X_train, X_valid, y_train, y_valid = train_test_split(X,y,test_size=0.1,random_state=99)"
   ]
  },
  {
   "cell_type": "code",
   "execution_count": 15,
   "metadata": {},
   "outputs": [
    {
     "data": {
      "text/plain": [
       "'\\nfrom scipy import stats\\n\\nz = np.abs(stats.zscore(X_train))\\nX_train = X_train[(z<3).all(axis=1)]\\n'"
      ]
     },
     "execution_count": 15,
     "metadata": {},
     "output_type": "execute_result"
    }
   ],
   "source": [
    "## this is the code for removing outliers but it didn't help in improving score so its not used ##\n",
    "\n",
    "\"\"\"\n",
    "from scipy import stats\n",
    "\n",
    "z = np.abs(stats.zscore(X_train))\n",
    "X_train = X_train[(z<3).all(axis=1)]\n",
    "\"\"\""
   ]
  },
  {
   "cell_type": "code",
   "execution_count": 16,
   "metadata": {},
   "outputs": [],
   "source": [
    "from sklearn.preprocessing import StandardScaler, OneHotEncoder\n",
    "from sklearn.compose import ColumnTransformer"
   ]
  },
  {
   "cell_type": "code",
   "execution_count": 17,
   "metadata": {},
   "outputs": [],
   "source": [
    "# Preprocessing for numerical data\n",
    "numerical_transformer = StandardScaler()\n",
    "\n",
    "# Preprocessing for categorical data\n",
    "categorical_transformer = OneHotEncoder(handle_unknown='error',drop=\"first\",sparse=False)\n",
    "\n",
    "# Bundle preprocessing for numerical and categorical data\n",
    "preprocessor = ColumnTransformer(\n",
    "    transformers=[\n",
    "        ('num', numerical_transformer, num_cols),\n",
    "        ('cat', categorical_transformer, cat_cols),\n",
    "    ])"
   ]
  },
  {
   "cell_type": "code",
   "execution_count": 18,
   "metadata": {},
   "outputs": [],
   "source": [
    "from sklearn.ensemble import RandomForestClassifier\n",
    "from lightgbm import LGBMClassifier\n",
    "from xgboost import XGBClassifier"
   ]
  },
  {
   "cell_type": "code",
   "execution_count": 19,
   "metadata": {},
   "outputs": [],
   "source": [
    "from sklearn.pipeline import Pipeline\n",
    "from sklearn.metrics import f1_score"
   ]
  },
  {
   "cell_type": "code",
   "execution_count": 20,
   "metadata": {},
   "outputs": [
    {
     "data": {
      "text/plain": [
       "'\\nfrom sklearn.model_selection import RandomizedSearchCV\\n\\nclassifier = Pipeline(steps=[\\n    (\\'preprocessor\\',preprocessor),\\n    (\\'classifier\\',classifiers[\"RandomForest\"])\\n])\\n\\ngrid_val = param_grid[\"RandomForest\"]\\n\\nmodel = RandomizedSearchCV(classifier,grid_val,n_iter=10,cv=5,scoring=\"f1_weighted\",random_state=99)\\nmodel.fit(X_train,y_train)\\n\\nprint(model.best_params_)\\n\\ny_train_pred = model.predict(X_train)\\ny_valid_pred = model.predict(X_valid)\\n\\nprint(\"Train accuracy: {}\".format(f1_score(y_train,y_train_pred, average=\\'weighted\\')))\\nprint(\"Valid accuracy: {}\".format(f1_score(y_valid,y_valid_pred, average=\\'weighted\\')))\\n'"
      ]
     },
     "execution_count": 20,
     "metadata": {},
     "output_type": "execute_result"
    }
   ],
   "source": [
    "# this is for using randomized search cv. \n",
    "# I had already used it and now just trained the models on their corresponding best parameters\n",
    "\"\"\"\n",
    "classifiers = {\n",
    "    \"RandomForest\":RandomForestClassifier(random_state=99),\n",
    "    \"SVC\":SVC(random_state=99),\n",
    "    \"XGBoost\":XGBClassifier(random_state=99),\n",
    "    \"LGBM\":LGBMClassifier(random_state=99),\n",
    "}\n",
    "\n",
    "param_grid = {\n",
    "    \"RandomForest\":{ \n",
    "                    \"classifier__n_estimators\": [200],\n",
    "                    \"classifier__class_weight\": [\"balanced\"],\n",
    "                    \"classifier__max_features\": [\"auto\", \"sqrt\", \"log2\"],\n",
    "                    \"classifier__max_depth\" : [5,10,15,20,25,30],\n",
    "#                     \"classifier__min_samples_split\": [0.005, 0.01, 0.05, 0.10],\n",
    "#                     \"classifier__min_samples_leaf\": [0.005, 0.01, 0.05, 0.10],\n",
    "                    \"classifier__criterion\" :[\"gini\", \"entropy\"],\n",
    "                    \"classifier__n_jobs\": [-1],\n",
    "    },\n",
    "    \n",
    "    \"XGBoost\":{ \n",
    "                \"classifier__n_estimators\": [200],\n",
    "                \"classifier__max_depth\" : [3,4,5,6,7,8],\n",
    "                \"classifier__booster\": [\"gbtree\",\"gblinear\",\"dart\"],\n",
    "                \"classifier__objective\": [\"multi:softmax\"],\n",
    "                \"classifier__num_class\": [4],\n",
    "                \"classifier__eta\": [0.25,0.5],\n",
    "                \"classifier__n_jobs\": [-1],\n",
    "    },\n",
    "    \n",
    "    \"LGBM\":{ \n",
    "                \"classifier__n_estimators\": [200],\n",
    "                \"classifier__class_weight\": [\"balanced\"],\n",
    "                \"classifier__boosting_type\": [\"gbdt\",\"dart\",\"goss\",\"rf\"],\n",
    "                \"classifier__max_depth\" : [5,10,20,50,100,-1],\n",
    "#                     \"classifier__min_samples_split\": [0.005, 0.01, 0.05, 0.10],\n",
    "#                     \"classifier__min_samples_leaf\": [0.005, 0.01, 0.05, 0.10],\n",
    "                \"classifier__n_jobs\": [-1],\n",
    "                \"classifier__learning_rate\": [0.1,1,10],\n",
    "                \"classifier__importance_type\": [\"gain\"],\n",
    "                \"classifier__objective\": [\"multiclass\"],\n",
    "                \"classifier__num_class\": [4],\n",
    "    },  \n",
    "}\n",
    "\"\"\"\n",
    "\n",
    "\"\"\"\n",
    "from sklearn.model_selection import RandomizedSearchCV\n",
    "\n",
    "classifier = Pipeline(steps=[\n",
    "    ('preprocessor',preprocessor),\n",
    "    ('classifier',classifiers[\"RandomForest\"])\n",
    "])\n",
    "\n",
    "grid_val = param_grid[\"RandomForest\"]\n",
    "\n",
    "model = RandomizedSearchCV(classifier,grid_val,n_iter=10,cv=5,scoring=\"f1_weighted\",random_state=99)\n",
    "model.fit(X_train,y_train)\n",
    "\n",
    "print(model.best_params_)\n",
    "\n",
    "y_train_pred = model.predict(X_train)\n",
    "y_valid_pred = model.predict(X_valid)\n",
    "\n",
    "print(\"Train accuracy: {}\".format(f1_score(y_train,y_train_pred, average='weighted')))\n",
    "print(\"Valid accuracy: {}\".format(f1_score(y_valid,y_valid_pred, average='weighted')))\n",
    "\"\"\""
   ]
  },
  {
   "cell_type": "code",
   "execution_count": 21,
   "metadata": {},
   "outputs": [],
   "source": [
    "xgbmodel = Pipeline(steps=[\n",
    "    ('preprocessor',preprocessor),\n",
    "    ('classifier',XGBClassifier(objective=\"multi:softmax\",num_class=4,n_jobs=-1,eta=0.5,max_depth=6,n_estimators=200,booster=\"dart\",random_state=99))\n",
    "])\n",
    "\n",
    "rfmodel = Pipeline(steps=[\n",
    "    ('preprocessor',preprocessor),\n",
    "    ('classifier',RandomForestClassifier(n_jobs=-1,max_depth=25,n_estimators=200,random_state=99,criterion=\"entropy\",max_features=\"sqrt\",class_weight=\"balanced\"))\n",
    "])\n",
    "\n",
    "lgbmmodel = Pipeline(steps=[\n",
    "    ('preprocessor',preprocessor),\n",
    "    ('classifier',LGBMClassifier(objective=\"multiclass\",n_jobs=-1,random_state=99,num_class=4,n_estimators=200,max_depth=100,learning_rate=0.1,importance_type=\"gain\",class_weight=\"balanced\",boosting_type=\"gbdt\"))\n",
    "])"
   ]
  },
  {
   "cell_type": "code",
   "execution_count": 22,
   "metadata": {},
   "outputs": [
    {
     "name": "stdout",
     "output_type": "stream",
     "text": [
      "Train accuracy: 0.9768874492769575\n",
      "Valid accuracy: 0.766270720470584\n"
     ]
    }
   ],
   "source": [
    "rfmodel.fit(X_train,y_train)\n",
    "yrf_train_pred = rfmodel.predict(X_train)\n",
    "yrf_valid_pred = rfmodel.predict(X_valid)\n",
    "\n",
    "print(\"Train accuracy: {}\".format(f1_score(y_train,yrf_train_pred, average='weighted')))\n",
    "print(\"Valid accuracy: {}\".format(f1_score(y_valid,yrf_valid_pred, average='weighted')))"
   ]
  },
  {
   "cell_type": "code",
   "execution_count": 23,
   "metadata": {},
   "outputs": [
    {
     "name": "stderr",
     "output_type": "stream",
     "text": [
      "/home/vin-it/ML/anaconda3/lib/python3.7/site-packages/xgboost/sklearn.py:888: UserWarning: The use of label encoder in XGBClassifier is deprecated and will be removed in a future release. To remove this warning, do the following: 1) Pass option use_label_encoder=False when constructing XGBClassifier object; and 2) Encode your labels (y) as integers starting with 0, i.e. 0, 1, 2, ..., [num_class - 1].\n",
      "  warnings.warn(label_encoder_deprecation_msg, UserWarning)\n"
     ]
    },
    {
     "name": "stdout",
     "output_type": "stream",
     "text": [
      "[16:52:34] WARNING: ../src/learner.cc:1061: Starting in XGBoost 1.3.0, the default evaluation metric used with the objective 'multi:softprob' was changed from 'merror' to 'mlogloss'. Explicitly set eval_metric if you'd like to restore the old behavior.\n",
      "Train accuracy: 0.8710442143648636\n",
      "Valid accuracy: 0.8017533571932427\n"
     ]
    }
   ],
   "source": [
    "xgbmodel.fit(X_train,y_train)\n",
    "yxgb_train_pred = xgbmodel.predict(X_train)\n",
    "yxgb_valid_pred = xgbmodel.predict(X_valid)\n",
    "\n",
    "print(\"Train accuracy: {}\".format(f1_score(y_train,yxgb_train_pred, average='weighted')))\n",
    "print(\"Valid accuracy: {}\".format(f1_score(y_valid,yxgb_valid_pred, average='weighted')))"
   ]
  },
  {
   "cell_type": "code",
   "execution_count": 24,
   "metadata": {
    "scrolled": true
   },
   "outputs": [
    {
     "name": "stdout",
     "output_type": "stream",
     "text": [
      "[LightGBM] [Warning] Accuracy may be bad since you didn't explicitly set num_leaves OR 2^max_depth > num_leaves. (num_leaves=31).\n",
      "Train accuracy: 0.7850570393773953\n",
      "Valid accuracy: 0.7620063068874094\n"
     ]
    }
   ],
   "source": [
    "lgbmmodel.fit(X_train,y_train)\n",
    "ylgbm_train_pred = lgbmmodel.predict(X_train)\n",
    "ylgbm_valid_pred = lgbmmodel.predict(X_valid)\n",
    "\n",
    "print(\"Train accuracy: {}\".format(f1_score(y_train,ylgbm_train_pred, average='weighted')))\n",
    "print(\"Valid accuracy: {}\".format(f1_score(y_valid,ylgbm_valid_pred, average='weighted')))"
   ]
  },
  {
   "cell_type": "markdown",
   "metadata": {},
   "source": [
    "### Visualising feature importances "
   ]
  },
  {
   "cell_type": "code",
   "execution_count": 25,
   "metadata": {},
   "outputs": [],
   "source": [
    "rf_feature_weights = rfmodel[\"classifier\"].feature_importances_\n",
    "# xgb_feature_weights = xgbmodel[\"classifier\"].feature_importances_\n",
    "# lgbm_feature_weights = lgbmmodel[\"classifier\"].feature_importances_"
   ]
  },
  {
   "cell_type": "code",
   "execution_count": 26,
   "metadata": {},
   "outputs": [],
   "source": [
    "columns = ['userId', 'tier_0', 'tier_1', 'gender', 'following_rate', 'followers_avg_age',\n",
    "       'following_avg_age', 'max_repetitive_punc',\n",
    "       'num_of_hashtags_per_action', 'emoji_count_per_action',\n",
    "       'punctuations_per_action', 'number_of_words_per_action',\n",
    "       'avgCompletion', 'avgTimeSpent', 'avgDuration', 'avgComments',\n",
    "       'creations', 'content_views', 'num_of_comments',\n",
    "       'weekends_trails_watched_per_day', 'weekdays_trails_watched_per_day',\n",
    "       'slot1_trails_watched_per_day', 'slot2_trails_watched_per_day',\n",
    "       'slot3_trails_watched_per_day', 'slot4_trails_watched_per_day', 'avgt2',\n",
    "       'ratio', 'avg_durxcomp']"
   ]
  },
  {
   "cell_type": "code",
   "execution_count": 27,
   "metadata": {},
   "outputs": [],
   "source": [
    "from matplotlib import pyplot as plt\n",
    "import seaborn as sns"
   ]
  },
  {
   "cell_type": "code",
   "execution_count": 28,
   "metadata": {
    "scrolled": true
   },
   "outputs": [
    {
     "data": {
      "image/png": "[encoded data removed]",
      "text/plain": [
       "<Figure size 1008x1152 with 1 Axes>"
      ]
     },
     "metadata": {
      "needs_background": "light"
     },
     "output_type": "display_data"
    }
   ],
   "source": [
    "feature_val = pd.DataFrame({'features':columns, 'weights':rf_feature_weights})\n",
    "feature_val.sort_values(by='weights', ascending=False, inplace=True)\n",
    "plt.figure(figsize=(14,16))\n",
    "sns.barplot(y='features',x='weights',data=feature_val,color='blue')\n",
    "plt.show()\n",
    "\n",
    "# feature_val = pd.DataFrame({'features':columns, 'weights':xgb_feature_weights})\n",
    "# feature_val.sort_values(by='weights', ascending=False, inplace=True)\n",
    "# plt.figure(figsize=(14,16))\n",
    "# sns.barplot(y='features',x='weights',data=feature_val.iloc[:,:],color='blue')\n",
    "# plt.show()\n",
    "\n",
    "# feature_val = pd.DataFrame({'features':columns, 'weights':lgbm_feature_weights})\n",
    "# feature_val.sort_values(by='weights', ascending=False, inplace=True)\n",
    "# plt.figure(figsize=(14,16))\n",
    "# sns.barplot(y='features',x='weights',data=feature_val,color='blue')\n",
    "# plt.show()"
   ]
  },
  {
   "cell_type": "markdown",
   "metadata": {},
   "source": [
    "# Ensemble\n",
    "\n",
    "Precdicted the test score after ensembling using the probabilities for each class from each model. Manually tuned the weights for best test score."
   ]
  },
  {
   "cell_type": "code",
   "execution_count": 29,
   "metadata": {},
   "outputs": [],
   "source": [
    "rf_train_prob = rfmodel.predict_proba(X_train)\n",
    "xgb_train_prob = xgbmodel.predict_proba(X_train)\n",
    "lgbm_train_prob = lgbmmodel.predict_proba(X_train)\n",
    "\n",
    "rf_valid_prob = rfmodel.predict_proba(X_valid)\n",
    "xgb_valid_prob = xgbmodel.predict_proba(X_valid)\n",
    "lgbm_valid_prob = lgbmmodel.predict_proba(X_valid)\n",
    "\n",
    "rf_test_prob = rfmodel.predict_proba(test_data)\n",
    "xgb_test_prob = xgbmodel.predict_proba(test_data)\n",
    "lgbm_test_prob = lgbmmodel.predict_proba(test_data)"
   ]
  },
  {
   "cell_type": "code",
   "execution_count": 30,
   "metadata": {
    "scrolled": true
   },
   "outputs": [
    {
     "name": "stdout",
     "output_type": "stream",
     "text": [
      "Train accuracy: 0.9220985291030068\n",
      "Valid accuracy: 0.8012160124370367\n"
     ]
    }
   ],
   "source": [
    "#these weights were tuned manually\n",
    "yensemble_train_pred = np.argmax(2*rf_train_prob+4*xgb_train_prob+lgbm_train_prob,axis=1)+1\n",
    "yensemble_valid_pred = np.argmax(2*rf_valid_prob+4*xgb_valid_prob+lgbm_valid_prob,axis=1)+1\n",
    "\n",
    "print(\"Train accuracy: {}\".format(f1_score(y_train,yensemble_train_pred, average='weighted')))\n",
    "print(\"Valid accuracy: {}\".format(f1_score(y_valid,yensemble_valid_pred, average='weighted')))"
   ]
  },
  {
   "cell_type": "code",
   "execution_count": 31,
   "metadata": {},
   "outputs": [],
   "source": [
    "submission = np.argmax(2*rf_test_prob+4*xgb_test_prob+lgbm_test_prob,axis=1)+1\n",
    "submission = pd.DataFrame({'prediction':submission})"
   ]
  },
  {
   "cell_type": "code",
   "execution_count": 32,
   "metadata": {},
   "outputs": [],
   "source": [
    "# submission.to_csv(\"submissions/ensemble_submission.csv\",index=False)"
   ]
  },
  {
   "cell_type": "code",
   "execution_count": 33,
   "metadata": {},
   "outputs": [
    {
     "data": {
      "text/html": [
       "<div>\n",
       "<style scoped>\n",
       "    .dataframe tbody tr th:only-of-type {\n",
       "        vertical-align: middle;\n",
       "    }\n",
       "\n",
       "    .dataframe tbody tr th {\n",
       "        vertical-align: top;\n",
       "    }\n",
       "\n",
       "    .dataframe thead th {\n",
       "        text-align: right;\n",
       "    }\n",
       "</style>\n",
       "<table border=\"1\" class=\"dataframe\">\n",
       "  <thead>\n",
       "    <tr style=\"text-align: right;\">\n",
       "      <th></th>\n",
       "      <th>prediction</th>\n",
       "    </tr>\n",
       "  </thead>\n",
       "  <tbody>\n",
       "    <tr>\n",
       "      <th>0</th>\n",
       "      <td>1</td>\n",
       "    </tr>\n",
       "    <tr>\n",
       "      <th>1</th>\n",
       "      <td>1</td>\n",
       "    </tr>\n",
       "    <tr>\n",
       "      <th>2</th>\n",
       "      <td>1</td>\n",
       "    </tr>\n",
       "    <tr>\n",
       "      <th>3</th>\n",
       "      <td>2</td>\n",
       "    </tr>\n",
       "    <tr>\n",
       "      <th>4</th>\n",
       "      <td>1</td>\n",
       "    </tr>\n",
       "    <tr>\n",
       "      <th>...</th>\n",
       "      <td>...</td>\n",
       "    </tr>\n",
       "    <tr>\n",
       "      <th>54315</th>\n",
       "      <td>1</td>\n",
       "    </tr>\n",
       "    <tr>\n",
       "      <th>54316</th>\n",
       "      <td>1</td>\n",
       "    </tr>\n",
       "    <tr>\n",
       "      <th>54317</th>\n",
       "      <td>4</td>\n",
       "    </tr>\n",
       "    <tr>\n",
       "      <th>54318</th>\n",
       "      <td>1</td>\n",
       "    </tr>\n",
       "    <tr>\n",
       "      <th>54319</th>\n",
       "      <td>1</td>\n",
       "    </tr>\n",
       "  </tbody>\n",
       "</table>\n",
       "<p>54320 rows × 1 columns</p>\n",
       "</div>"
      ],
      "text/plain": [
       "       prediction\n",
       "0               1\n",
       "1               1\n",
       "2               1\n",
       "3               2\n",
       "4               1\n",
       "...           ...\n",
       "54315           1\n",
       "54316           1\n",
       "54317           4\n",
       "54318           1\n",
       "54319           1\n",
       "\n",
       "[54320 rows x 1 columns]"
      ]
     },
     "execution_count": 33,
     "metadata": {},
     "output_type": "execute_result"
    }
   ],
   "source": [
    "submission"
   ]
  },
  {
   "cell_type": "code",
   "execution_count": null,
   "metadata": {},
   "outputs": [],
   "source": []
  }
 ],
 "metadata": {
  "kernelspec": {
   "display_name": "Python 3",
   "language": "python",
   "name": "python3"
  },
  "language_info": {
   "codemirror_mode": {
    "name": "ipython",
    "version": 3
   },
   "file_extension": ".py",
   "mimetype": "text/x-python",
   "name": "python",
   "nbconvert_exporter": "python",
   "pygments_lexer": "ipython3",
   "version": "3.7.3"
  }
 },
 "nbformat": 4,
 "nbformat_minor": 4
}
